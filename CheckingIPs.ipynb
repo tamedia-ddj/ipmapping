{
 "cells": [
  {
   "cell_type": "code",
   "execution_count": 1,
   "metadata": {},
   "outputs": [],
   "source": [
    "import pandas as pd\n",
    "from datetime import datetime\n",
    "#Doing this to execute this: https://www.team-cymru.com/IP-ASN-mapping.html#whois"
   ]
  },
  {
   "cell_type": "code",
   "execution_count": 2,
   "metadata": {},
   "outputs": [],
   "source": [
    "#Getting message IPs\n",
    "core_member_posts = pd.read_csv('csv/core_message_posts.csv')"
   ]
  },
  {
   "cell_type": "code",
   "execution_count": 3,
   "metadata": {},
   "outputs": [],
   "source": [
    "#Getting time\n",
    "def timestamp(ts):\n",
    "    elem = datetime.utcfromtimestamp(ts).strftime('%Y-%m-%d %H:%M:%S')\n",
    "    return elem\n",
    "core_member_posts['msg_datetime'] = core_member_posts['msg_date'].apply(timestamp)"
   ]
  },
  {
   "cell_type": "code",
   "execution_count": 4,
   "metadata": {},
   "outputs": [],
   "source": [
    "iplist = list(core_member_posts['msg_ip_address'])\n",
    "timelist = list(core_member_posts['msg_datetime'])\n",
    "\n",
    "wholelst = []\n",
    "for ip, time in zip(iplist,timelist):\n",
    "    elem  = ip   + \" \" + time\n",
    "    wholelst.append(elem)"
   ]
  },
  {
   "cell_type": "code",
   "execution_count": 5,
   "metadata": {},
   "outputs": [
    {
     "data": {
      "text/plain": [
       "['178.140.119.217 2011-09-16 03:49:58',\n",
       " '109.78.212.13 2011-09-16 11:54:08',\n",
       " '178.140.119.217 2011-09-16 14:39:59',\n",
       " '109.78.212.13 2011-09-16 15:29:01',\n",
       " '178.140.119.217 2011-09-16 15:32:58']"
      ]
     },
     "execution_count": 5,
     "metadata": {},
     "output_type": "execute_result"
    }
   ],
   "source": [
    "wholelst[:5]"
   ]
  },
  {
   "cell_type": "code",
   "execution_count": 6,
   "metadata": {},
   "outputs": [
    {
     "data": {
      "text/plain": [
       "21715"
      ]
     },
     "execution_count": 6,
     "metadata": {},
     "output_type": "execute_result"
    }
   ],
   "source": [
    "len(wholelst)"
   ]
  },
  {
   "cell_type": "code",
   "execution_count": 7,
   "metadata": {},
   "outputs": [],
   "source": [
    "# Create a function called \"chunks\" with two arguments, l and n:\n",
    "def chunks(l, n):\n",
    "    # For item i in a range that is a length of l,\n",
    "    for i in range(0, len(l), n):\n",
    "        # Create an index range for l of n items:\n",
    "        yield l[i:i+n]"
   ]
  },
  {
   "cell_type": "code",
   "execution_count": 8,
   "metadata": {},
   "outputs": [],
   "source": [
    "wholelst_chunks = list(chunks(wholelst, 500))"
   ]
  },
  {
   "cell_type": "code",
   "execution_count": 9,
   "metadata": {},
   "outputs": [],
   "source": [
    "for lst in wholelst_chunks:\n",
    "    lst.insert(0, 'begin')\n",
    "    lst.append('end')"
   ]
  },
  {
   "cell_type": "code",
   "execution_count": 11,
   "metadata": {},
   "outputs": [],
   "source": [
    "n = 0\n",
    "for lst in wholelst_chunks:\n",
    "    with open('iplist_chunks/iplist'+str(n)+'.txt', 'w') as f:\n",
    "        for item in lst:\n",
    "            f.write(\"%s\\n\" % item)\n",
    "    n += 1"
   ]
  },
  {
   "cell_type": "code",
   "execution_count": 12,
   "metadata": {},
   "outputs": [
    {
     "data": {
      "text/plain": [
       "502"
      ]
     },
     "execution_count": 12,
     "metadata": {},
     "output_type": "execute_result"
    }
   ],
   "source": [
    "len(wholelst_chunks[0])"
   ]
  },
  {
   "cell_type": "markdown",
   "metadata": {},
   "source": [
    "## Run on command line\n",
    "Make sure the folders \"iplist\" and new folder \"csvresults\" are on the same level, then run this:\n",
    "```for i in {1..43}; do netcat whois.cymru.com 43 < iplist_chunks/iplist${i}.txt | sort -n > csv_results/list${i}.csv; done````\n"
   ]
  },
  {
   "cell_type": "code",
   "execution_count": null,
   "metadata": {},
   "outputs": [],
   "source": []
  }
 ],
 "metadata": {
  "kernelspec": {
   "display_name": "Python 3",
   "language": "python",
   "name": "python3"
  },
  "language_info": {
   "codemirror_mode": {
    "name": "ipython",
    "version": 3
   },
   "file_extension": ".py",
   "mimetype": "text/x-python",
   "name": "python",
   "nbconvert_exporter": "python",
   "pygments_lexer": "ipython3",
   "version": "3.7.3"
  }
 },
 "nbformat": 4,
 "nbformat_minor": 2
}
